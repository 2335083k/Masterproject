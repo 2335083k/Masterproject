{
 "cells": [
  {
   "cell_type": "code",
   "execution_count": 1,
   "metadata": {},
   "outputs": [],
   "source": [
    "import einsteinpy as esp\n",
    "import sympy as sy\n",
    "from sympy import simplify as simp\n",
    "from sympy import tensorcontraction as tc\n",
    "from sympy import tensorproduct as tp\n",
    "from sympy import diff as d\n",
    "from sympy import Array\n",
    "from einsteinpy.symbolic import MetricTensor\n",
    "sy.init_printing()\n",
    "import numpy as np"
   ]
  },
  {
   "cell_type": "code",
   "execution_count": 2,
   "metadata": {},
   "outputs": [],
   "source": [
    "t,x,y, z = sy.symbols('t x y z')\n",
    "a =sy.Function('a')(t)\n",
    "syms=[t,x,y,z]"
   ]
  },
  {
   "cell_type": "code",
   "execution_count": 3,
   "metadata": {},
   "outputs": [],
   "source": [
    "arr=Array([[1,0,0,0],[0,a,0,0],[0,0,a,0],[0,0,0,a]])\n",
    "arrinv=Array([[1,0,0,0],[0,1/a,0,0],[0,0,1/a,0],[0,0,0,1/a]])\n",
    "arrm=Array([[-1,0,0,0],[0,1,0,0],[0,0,1,0],[0,0,0,1]])"
   ]
  },
  {
   "cell_type": "code",
   "execution_count": 4,
   "metadata": {},
   "outputs": [],
   "source": [
    "minkll=esp.symbolic.metric.MetricTensor(arrm,syms,'ll','mink')\n",
    "eUl=esp.symbolic.tensor.BaseRelativityTensor(arr,syms=syms, config='ul')\n",
    "eLu=esp.symbolic.tensor.BaseRelativityTensor(arrinv,syms=syms, config='lu')\n",
    "e=a**3\n",
    "garr=tc(tc(tp(minkll.tensor(),eUl.tensor(),eUl.tensor()),(0,2)),(0,2))\n",
    "gll=esp.symbolic.metric.MetricTensor(garr,syms,'ll','g')"
   ]
  },
  {
   "cell_type": "code",
   "execution_count": 21,
   "metadata": {},
   "outputs": [
    {
     "data": {
      "text/latex": [
       "$\\displaystyle \\left( \\left[\\begin{matrix}1 & 0 & 0 & 0\\\\0 & a{\\left(t \\right)} & 0 & 0\\\\0 & 0 & a{\\left(t \\right)} & 0\\\\0 & 0 & 0 & a{\\left(t \\right)}\\end{matrix}\\right], \\  \\left[\\begin{matrix}1 & 0 & 0 & 0\\\\0 & \\frac{1}{a{\\left(t \\right)}} & 0 & 0\\\\0 & 0 & \\frac{1}{a{\\left(t \\right)}} & 0\\\\0 & 0 & 0 & \\frac{1}{a{\\left(t \\right)}}\\end{matrix}\\right]\\right)$"
      ],
      "text/plain": [
       "⎛                       ⎡1   0     0     0  ⎤⎞\n",
       "⎜                       ⎢                   ⎥⎟\n",
       "⎜                       ⎢    1              ⎥⎟\n",
       "⎜⎡1   0     0     0  ⎤  ⎢0  ────   0     0  ⎥⎟\n",
       "⎜⎢                   ⎥  ⎢   a(t)            ⎥⎟\n",
       "⎜⎢0  a(t)   0     0  ⎥  ⎢                   ⎥⎟\n",
       "⎜⎢                   ⎥, ⎢          1        ⎥⎟\n",
       "⎜⎢0   0    a(t)   0  ⎥  ⎢0   0    ────   0  ⎥⎟\n",
       "⎜⎢                   ⎥  ⎢         a(t)      ⎥⎟\n",
       "⎜⎣0   0     0    a(t)⎦  ⎢                   ⎥⎟\n",
       "⎜                       ⎢                1  ⎥⎟\n",
       "⎜                       ⎢0   0     0    ────⎥⎟\n",
       "⎝                       ⎣               a(t)⎦⎠"
      ]
     },
     "execution_count": 21,
     "metadata": {},
     "output_type": "execute_result"
    }
   ],
   "source": [
    "eUl.tensor(), eLu.tensor()"
   ]
  },
  {
   "cell_type": "code",
   "execution_count": 8,
   "metadata": {},
   "outputs": [],
   "source": [
    "guu=gll.change_config('uu')\n",
    "minkuu=minkll.change_config('uu')"
   ]
  },
  {
   "cell_type": "code",
   "execution_count": 9,
   "metadata": {},
   "outputs": [],
   "source": [
    "TUll=sy.MutableDenseNDimArray([[[0,0,0,0],[0,0,0,0],[0,0,0,0],[0,0,0,0]],[[0,0,0,0],[0,0,0,0],[0,0,0,0],[0,0,0,0]],[[0,0,0,0],[0,0,0,0],[0,0,0,0],[0,0,0,0]],[[0,0,0,0],[0,0,0,0],[0,0,0,0],[0,0,0,0]]])"
   ]
  },
  {
   "cell_type": "code",
   "execution_count": 10,
   "metadata": {},
   "outputs": [],
   "source": [
    "for i, I in enumerate(syms):\n",
    "    for j, J in enumerate(syms):\n",
    "        for k, K in enumerate(syms):\n",
    "            \n",
    "            TUll[i,j,k]=d(eUl.tensor()[i,k],J)-d(eUl.tensor()[i,j],K)"
   ]
  },
  {
   "cell_type": "code",
   "execution_count": 11,
   "metadata": {},
   "outputs": [
    {
     "data": {
      "text/latex": [
       "$\\displaystyle \\left[\\begin{matrix}\\left[\\begin{matrix}0 & 0 & 0 & 0\\\\0 & 0 & 0 & 0\\\\0 & 0 & 0 & 0\\\\0 & 0 & 0 & 0\\end{matrix}\\right] & \\left[\\begin{matrix}0 & \\frac{\\frac{d}{d t} a{\\left(t \\right)}}{a{\\left(t \\right)}} & 0 & 0\\\\- \\frac{\\frac{d}{d t} a{\\left(t \\right)}}{a{\\left(t \\right)}} & 0 & 0 & 0\\\\0 & 0 & 0 & 0\\\\0 & 0 & 0 & 0\\end{matrix}\\right] & \\left[\\begin{matrix}0 & 0 & \\frac{\\frac{d}{d t} a{\\left(t \\right)}}{a{\\left(t \\right)}} & 0\\\\0 & 0 & 0 & 0\\\\- \\frac{\\frac{d}{d t} a{\\left(t \\right)}}{a{\\left(t \\right)}} & 0 & 0 & 0\\\\0 & 0 & 0 & 0\\end{matrix}\\right] & \\left[\\begin{matrix}0 & 0 & 0 & \\frac{\\frac{d}{d t} a{\\left(t \\right)}}{a{\\left(t \\right)}}\\\\0 & 0 & 0 & 0\\\\0 & 0 & 0 & 0\\\\- \\frac{\\frac{d}{d t} a{\\left(t \\right)}}{a{\\left(t \\right)}} & 0 & 0 & 0\\end{matrix}\\right]\\end{matrix}\\right]$"
      ],
      "text/plain": [
       "⎡              ⎡            d             ⎤  ⎡               d          ⎤  ⎡  \n",
       "⎢              ⎢            ──(a(t))      ⎥  ⎢               ──(a(t))   ⎥  ⎢  \n",
       "⎢              ⎢            dt            ⎥  ⎢               dt         ⎥  ⎢  \n",
       "⎢              ⎢    0       ────────  0  0⎥  ⎢    0       0  ────────  0⎥  ⎢  \n",
       "⎢⎡0  0  0  0⎤  ⎢              a(t)        ⎥  ⎢                 a(t)     ⎥  ⎢  \n",
       "⎢⎢          ⎥  ⎢                          ⎥  ⎢                          ⎥  ⎢  \n",
       "⎢⎢0  0  0  0⎥  ⎢ d                        ⎥  ⎢    0       0     0      0⎥  ⎢  \n",
       "⎢⎢          ⎥  ⎢-──(a(t))                 ⎥  ⎢                          ⎥  ⎢  \n",
       "⎢⎢0  0  0  0⎥  ⎢ dt                       ⎥  ⎢ d                        ⎥  ⎢  \n",
       "⎢⎢          ⎥  ⎢──────────     0      0  0⎥  ⎢-──(a(t))                 ⎥  ⎢  \n",
       "⎢⎣0  0  0  0⎦  ⎢   a(t)                   ⎥  ⎢ dt                       ⎥  ⎢ d\n",
       "⎢              ⎢                          ⎥  ⎢──────────  0     0      0⎥  ⎢-─\n",
       "⎢              ⎢    0          0      0  0⎥  ⎢   a(t)                   ⎥  ⎢ d\n",
       "⎢              ⎢                          ⎥  ⎢                          ⎥  ⎢──\n",
       "⎣              ⎣    0          0      0  0⎦  ⎣    0       0     0      0⎦  ⎣  \n",
       "\n",
       "                d       ⎤⎤\n",
       "                ──(a(t))⎥⎥\n",
       "                dt      ⎥⎥\n",
       "  0       0  0  ────────⎥⎥\n",
       "                  a(t)  ⎥⎥\n",
       "                        ⎥⎥\n",
       "  0       0  0     0    ⎥⎥\n",
       "                        ⎥⎥\n",
       "  0       0  0     0    ⎥⎥\n",
       "                        ⎥⎥\n",
       "                        ⎥⎥\n",
       "─(a(t))                 ⎥⎥\n",
       "t                       ⎥⎥\n",
       "────────  0  0     0    ⎥⎥\n",
       " a(t)                   ⎦⎦"
      ]
     },
     "execution_count": 11,
     "metadata": {},
     "output_type": "execute_result"
    }
   ],
   "source": [
    "Tull=tc(tp(eLu.tensor(),TUll),(0,2))\n",
    "Tull"
   ]
  },
  {
   "cell_type": "code",
   "execution_count": 12,
   "metadata": {},
   "outputs": [],
   "source": [
    "Tl=tc(Tull,(0,1))\n",
    "Tu=tc(tp(guu.tensor(),Tl),(0,2))\n"
   ]
  },
  {
   "cell_type": "code",
   "execution_count": 13,
   "metadata": {},
   "outputs": [
    {
     "data": {
      "image/png": "[encoded data removed]",
      "text/latex": [
       "$\\displaystyle \\frac{6 \\left(a{\\left(t \\right)} \\frac{d^{2}}{d t^{2}} a{\\left(t \\right)} + 2 \\left(\\frac{d}{d t} a{\\left(t \\right)}\\right)^{2}\\right)}{a^{2}{\\left(t \\right)}}$"
      ],
      "text/plain": [
       "  ⎛       2                     2⎞\n",
       "  ⎜      d            ⎛d       ⎞ ⎟\n",
       "6⋅⎜a(t)⋅───(a(t)) + 2⋅⎜──(a(t))⎟ ⎟\n",
       "  ⎜       2           ⎝dt      ⎠ ⎟\n",
       "  ⎝     dt                       ⎠\n",
       "──────────────────────────────────\n",
       "               2                  \n",
       "              a (t)               "
      ]
     },
     "execution_count": 13,
     "metadata": {},
     "output_type": "execute_result"
    }
   ],
   "source": [
    "Bl=(sy.zeros(4))\n",
    "for i, I in enumerate(syms):\n",
    "    defff=e*Tu[i]\n",
    "    diffme=d(defff,I)\n",
    "    Bl[i]=2*diffme/e\n",
    "B=sum(Bl)\n",
    "B.simplify()"
   ]
  },
  {
   "cell_type": "code",
   "execution_count": 14,
   "metadata": {},
   "outputs": [],
   "source": [
    "Tlll=tc(tp(gll.tensor(),Tull),(0,2))\n",
    "Tuuu=sy.MutableDenseNDimArray([[[0,0,0,0],[0,0,0,0],[0,0,0,0],[0,0,0,0]],[[0,0,0,0],[0,0,0,0],[0,0,0,0],[0,0,0,0]],[[0,0,0,0],[0,0,0,0],[0,0,0,0],[0,0,0,0]],[[0,0,0,0],[0,0,0,0],[0,0,0,0],[0,0,0,0]]])\n",
    "Tulu=sy.MutableDenseNDimArray([[[0,0,0,0],[0,0,0,0],[0,0,0,0],[0,0,0,0]],[[0,0,0,0],[0,0,0,0],[0,0,0,0],[0,0,0,0]],[[0,0,0,0],[0,0,0,0],[0,0,0,0],[0,0,0,0]],[[0,0,0,0],[0,0,0,0],[0,0,0,0],[0,0,0,0]]])"
   ]
  },
  {
   "cell_type": "code",
   "execution_count": 15,
   "metadata": {},
   "outputs": [],
   "source": [
    "for i, I in enumerate(syms):\n",
    "    for j, J in enumerate(syms):\n",
    "        for k, K in enumerate(syms):\n",
    "            Tulu[i,j,k]=guu.tensor()[k,k]*Tull[i,j,k]"
   ]
  },
  {
   "cell_type": "code",
   "execution_count": 16,
   "metadata": {},
   "outputs": [],
   "source": [
    "for i, I in enumerate(syms):\n",
    "    for j, J in enumerate(syms):\n",
    "        for k, K in enumerate(syms):\n",
    "            Tuuu[i,j,k]=guu.tensor()[j,j]*Tulu[i,j,k]"
   ]
  },
  {
   "cell_type": "code",
   "execution_count": 17,
   "metadata": {},
   "outputs": [],
   "source": [
    "Tl=tc(Tull,(0,1))\n",
    "Tu=tc(Tulu,(0,1))"
   ]
  },
  {
   "cell_type": "code",
   "execution_count": 18,
   "metadata": {},
   "outputs": [
    {
     "data": {
      "image/png": "[encoded data removed]",
      "text/latex": [
       "$\\displaystyle \\frac{6 \\left(\\frac{d}{d t} a{\\left(t \\right)}\\right)^{2}}{a^{2}{\\left(t \\right)}}$"
      ],
      "text/plain": [
       "            2\n",
       "  ⎛d       ⎞ \n",
       "6⋅⎜──(a(t))⎟ \n",
       "  ⎝dt      ⎠ \n",
       "─────────────\n",
       "     2       \n",
       "    a (t)    "
      ]
     },
     "execution_count": 18,
     "metadata": {},
     "output_type": "execute_result"
    }
   ],
   "source": [
    "T=tc(tc(tc(tp(Tuuu,Tlll),(0,3)),(0,2)),(0,1))/4+tc(tc(tc(tp(Tuuu,Tlll),(2,3)),(1,2)),(0,1))/2-tc(tp(Tl,Tu),(0,1))\n",
    "T.simplify()"
   ]
  },
  {
   "cell_type": "code",
   "execution_count": 20,
   "metadata": {},
   "outputs": [
    {
     "data": {
      "image/png": "[encoded data removed]",
      "text/latex": [
       "$\\displaystyle \\frac{6 \\left(a{\\left(t \\right)} \\frac{d^{2}}{d t^{2}} a{\\left(t \\right)} + \\left(\\frac{d}{d t} a{\\left(t \\right)}\\right)^{2}\\right)}{a^{2}{\\left(t \\right)}}$"
      ],
      "text/plain": [
       "  ⎛       2                   2⎞\n",
       "  ⎜      d          ⎛d       ⎞ ⎟\n",
       "6⋅⎜a(t)⋅───(a(t)) + ⎜──(a(t))⎟ ⎟\n",
       "  ⎜       2         ⎝dt      ⎠ ⎟\n",
       "  ⎝     dt                     ⎠\n",
       "────────────────────────────────\n",
       "              2                 \n",
       "             a (t)              "
      ]
     },
     "execution_count": 20,
     "metadata": {},
     "output_type": "execute_result"
    }
   ],
   "source": [
    "R=B-T\n",
    "R.simplify()"
   ]
  },
  {
   "cell_type": "code",
   "execution_count": null,
   "metadata": {},
   "outputs": [],
   "source": []
  }
 ],
 "metadata": {
  "kernelspec": {
   "display_name": "Python 3",
   "language": "python",
   "name": "python3"
  },
  "language_info": {
   "codemirror_mode": {
    "name": "ipython",
    "version": 3
   },
   "file_extension": ".py",
   "mimetype": "text/x-python",
   "name": "python",
   "nbconvert_exporter": "python",
   "pygments_lexer": "ipython3",
   "version": "3.7.8"
  }
 },
 "nbformat": 4,
 "nbformat_minor": 4
}
