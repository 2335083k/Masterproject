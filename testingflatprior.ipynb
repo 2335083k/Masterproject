{
 "cells": [
  {
   "cell_type": "code",
   "execution_count": 11,
   "id": "ca81148e",
   "metadata": {},
   "outputs": [],
   "source": [
    "import fTcosmo as cosmo\n",
    "import loglikefT \n",
    "import numpy as np\n",
    "import matplotlib.pylab as plt\n",
    "p=0.0054\n",
    "#popIII, heavy_no_delays, heavy_Q3 \n",
    "#Catalogs_optimistic, Catalogs_realistic"
   ]
  },
  {
   "cell_type": "code",
   "execution_count": 12,
   "id": "60ea2678",
   "metadata": {},
   "outputs": [],
   "source": [
    "data = \"catalogs_LISA_MBHB_StandSirens/Catalogs_optimistic/heavy_no_delays/cat_6.dat\""
   ]
  },
  {
   "cell_type": "code",
   "execution_count": 13,
   "id": "8f9c51f1",
   "metadata": {},
   "outputs": [],
   "source": [
    "test=loglikefT.loglikep(data, priors='SH0ES22',p=p)"
   ]
  },
  {
   "cell_type": "code",
   "execution_count": 14,
   "id": "1800e0e2",
   "metadata": {},
   "outputs": [],
   "source": [
    "zmax=max(test.z)\n",
    "zs=np.linspace(0,zmax,1000)\n",
    "array=np.zeros(1000)\n",
    "array2=np.zeros(1000)\n",
    "H=test.H[0]\n",
    "om=test.omm[0]\n",
    "for i, I in enumerate(zs):\n",
    "    array[i]=cosmo.DGW(I,H,om,p)\n",
    "    array2[i]=cosmo.DL(I,H,om,0)"
   ]
  },
  {
   "cell_type": "code",
   "execution_count": 15,
   "id": "fadae435",
   "metadata": {},
   "outputs": [
    {
     "data": {
      "text/plain": [
       "<matplotlib.legend.Legend at 0x7f79747aaac8>"
      ]
     },
     "execution_count": 15,
     "metadata": {},
     "output_type": "execute_result"
    },
    {
     "data": {
      "image/png": "[encoded data removed]",
      "text/plain": [
       "<Figure size 432x288 with 1 Axes>"
      ]
     },
     "metadata": {
      "needs_background": "light"
     },
     "output_type": "display_data"
    }
   ],
   "source": [
    "plt.plot(zs,array,label='p=p')\n",
    "plt.plot(zs, array2, label='LCDM')\n",
    "plt.errorbar(test.z, test.dL, yerr=test.sigmadL, c='black', fmt=\"x\")\n",
    "plt.legend()"
   ]
  },
  {
   "cell_type": "code",
   "execution_count": 16,
   "id": "9284c8e4",
   "metadata": {},
   "outputs": [],
   "source": [
    "sampleno, nwalkers=2000, 64\n"
   ]
  },
  {
   "cell_type": "code",
   "execution_count": null,
   "id": "c154afdd",
   "metadata": {},
   "outputs": [],
   "source": [
    "%%time\n",
    "test.Sample(sampleno, nwalkers)"
   ]
  },
  {
   "cell_type": "code",
   "execution_count": null,
   "id": "8134565f",
   "metadata": {},
   "outputs": [],
   "source": [
    "test.ratio()\n"
   ]
  },
  {
   "cell_type": "code",
   "execution_count": null,
   "id": "e6f7bc71",
   "metadata": {},
   "outputs": [],
   "source": [
    "test.Corner()"
   ]
  },
  {
   "cell_type": "code",
   "execution_count": null,
   "id": "05f45fac",
   "metadata": {},
   "outputs": [],
   "source": [
    "test.results()\n"
   ]
  },
  {
   "cell_type": "code",
   "execution_count": null,
   "id": "f0a58370",
   "metadata": {},
   "outputs": [],
   "source": []
  }
 ],
 "metadata": {
  "kernelspec": {
   "display_name": "GravWaves",
   "language": "python",
   "name": "gravwaves"
  },
  "language_info": {
   "codemirror_mode": {
    "name": "ipython",
    "version": 3
   },
   "file_extension": ".py",
   "mimetype": "text/x-python",
   "name": "python",
   "nbconvert_exporter": "python",
   "pygments_lexer": "ipython3",
   "version": "3.6.8"
  }
 },
 "nbformat": 4,
 "nbformat_minor": 5
}
